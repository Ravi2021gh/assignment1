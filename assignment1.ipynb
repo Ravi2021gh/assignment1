{
 "cells": [
  {
   "cell_type": "code",
   "execution_count": 1,
   "id": "891b041a",
   "metadata": {},
   "outputs": [],
   "source": [
    "# Explain with an example each when to use a for loop and a while loop.\n",
    "\n",
    "\n",
    "\n",
    "\n",
    "# Use a for loop to iterate over an array. Use a for loop when you know the loop should execute n times. Use a while loop for reading a file into a variable. Use a while loop when asking for user input.\n"
   ]
  },
  {
   "cell_type": "code",
   "execution_count": 6,
   "id": "53bfb4b1",
   "metadata": {},
   "outputs": [
    {
     "name": "stdout",
     "output_type": "stream",
     "text": [
      "sum is   55\n",
      "product is 3628800\n"
     ]
    }
   ],
   "source": [
    "add=0\n",
    "product=1\n",
    "for i in range(1,11):\n",
    "    add=add+i\n",
    "    product=product*i\n",
    "print(\"sum is  \",add)\n",
    "print(\"product is\",product)\n"
   ]
  },
  {
   "cell_type": "code",
   "execution_count": 11,
   "id": "1dda74e0",
   "metadata": {},
   "outputs": [
    {
     "name": "stdout",
     "output_type": "stream",
     "text": [
      "enter unit of bijli: 310\n"
     ]
    },
    {
     "data": {
      "text/plain": [
       "2060.0"
      ]
     },
     "execution_count": 11,
     "metadata": {},
     "output_type": "execute_result"
    }
   ],
   "source": [
    "price=1\n",
    "unit = int(input(\"enter unit of bijli: \"))\n",
    "if unit<=100:\n",
    "    price=4.5*unit\n",
    "elif  unit<=200:\n",
    "    price=100 * 4.5 + (unit - 100) * 6\n",
    "elif  unit<=300:\n",
    "    price=100 * 4.5 + 100 * 6 + (unit - 200) * 10   \n",
    "else:\n",
    "    price=100 * 4.5 + 100 * 6 + 100 * 10 + (unit - 300) \n",
    "price\n",
    "\n",
    " "
   ]
  },
  {
   "cell_type": "code",
   "execution_count": 17,
   "id": "b0efdcf9",
   "metadata": {},
   "outputs": [
    {
     "name": "stdout",
     "output_type": "stream",
     "text": [
      "Number of vowels 12\n"
     ]
    }
   ],
   "source": [
    "string = \"I want to become a data scientist\"\n",
    "vowels = ['a', 'e', 'i', 'o', 'u']\n",
    "count = 0\n",
    "\n",
    "for char in string.lower():\n",
    "    if char in vowels:\n",
    "        count = count+1\n",
    "\n",
    "print(\"Number of vowels\", count)\n"
   ]
  },
  {
   "cell_type": "code",
   "execution_count": null,
   "id": "66ac40d7",
   "metadata": {},
   "outputs": [],
   "source": [
    "numbers = list(range(1, 101))\n",
    "l1 = []\n",
    "\n",
    "for number in numbers:\n",
    "    cube = number ** 3\n",
    "    if cube % 4 == 0 or cube % 5 == 0:\n",
    "        l1.append(number)\n",
    "\n",
    "print(l1)"
   ]
  }
 ],
 "metadata": {
  "kernelspec": {
   "display_name": "Python 3 (ipykernel)",
   "language": "python",
   "name": "python3"
  },
  "language_info": {
   "codemirror_mode": {
    "name": "ipython",
    "version": 3
   },
   "file_extension": ".py",
   "mimetype": "text/x-python",
   "name": "python",
   "nbconvert_exporter": "python",
   "pygments_lexer": "ipython3",
   "version": "3.11.3"
  }
 },
 "nbformat": 4,
 "nbformat_minor": 5
}
